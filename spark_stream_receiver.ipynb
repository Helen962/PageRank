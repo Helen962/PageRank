{
 "cells": [
  {
   "cell_type": "code",
   "execution_count": 1,
   "id": "2407756b",
   "metadata": {},
   "outputs": [
    {
     "name": "stdout",
     "output_type": "stream",
     "text": [
      "Deleted hdfs://cluster-cc4766-3nodes-m/p2t1_receiver\n",
      "Deleted hdfs://cluster-cc4766-3nodes-m/p2t1_output\n"
     ]
    }
   ],
   "source": [
    "# Only for debug\n",
    "# !hadoop fs -rm -r hdfs://cluster-cc4766-3nodes-m/p2t1_receiver\n",
    "# !hadoop fs -rm -r hdfs://cluster-cc4766-3nodes-m/p2t1_output"
   ]
  },
  {
   "cell_type": "code",
   "execution_count": 1,
   "id": "f8bc11da",
   "metadata": {
    "scrolled": true
   },
   "outputs": [
    {
     "name": "stdout",
     "output_type": "stream",
     "text": [
      ":: loading settings :: url = jar:file:/usr/lib/spark/jars/ivy-2.4.0.jar!/org/apache/ivy/core/settings/ivysettings.xml\n"
     ]
    },
    {
     "name": "stderr",
     "output_type": "stream",
     "text": [
      "Ivy Default Cache set to: /root/.ivy2/cache\n",
      "The jars for the packages stored in: /root/.ivy2/jars\n",
      "com.databricks#spark-xml_2.12 added as a dependency\n",
      ":: resolving dependencies :: org.apache.spark#spark-submit-parent-46f9be11-18b0-4585-ab9c-012be26631b1;1.0\n",
      "\tconfs: [default]\n",
      "\tfound com.databricks#spark-xml_2.12;0.14.0 in central\n",
      "\tfound commons-io#commons-io;2.8.0 in central\n",
      "\tfound org.glassfish.jaxb#txw2;2.3.4 in central\n",
      "\tfound org.apache.ws.xmlschema#xmlschema-core;2.2.5 in central\n",
      ":: resolution report :: resolve 322ms :: artifacts dl 9ms\n",
      "\t:: modules in use:\n",
      "\tcom.databricks#spark-xml_2.12;0.14.0 from central in [default]\n",
      "\tcommons-io#commons-io;2.8.0 from central in [default]\n",
      "\torg.apache.ws.xmlschema#xmlschema-core;2.2.5 from central in [default]\n",
      "\torg.glassfish.jaxb#txw2;2.3.4 from central in [default]\n",
      "\t---------------------------------------------------------------------\n",
      "\t|                  |            modules            ||   artifacts   |\n",
      "\t|       conf       | number| search|dwnlded|evicted|| number|dwnlded|\n",
      "\t---------------------------------------------------------------------\n",
      "\t|      default     |   4   |   0   |   0   |   0   ||   4   |   0   |\n",
      "\t---------------------------------------------------------------------\n",
      ":: retrieving :: org.apache.spark#spark-submit-parent-46f9be11-18b0-4585-ab9c-012be26631b1\n",
      "\tconfs: [default]\n",
      "\t0 artifacts copied, 4 already retrieved (0kB/10ms)\n",
      "Setting default log level to \"WARN\".\n",
      "To adjust logging level use sc.setLogLevel(newLevel). For SparkR, use setLogLevel(newLevel).\n",
      "22/04/30 07:25:19 INFO org.apache.spark.SparkEnv: Registering MapOutputTracker\n",
      "22/04/30 07:25:19 INFO org.apache.spark.SparkEnv: Registering BlockManagerMaster\n",
      "22/04/30 07:25:19 INFO org.apache.spark.SparkEnv: Registering BlockManagerMasterHeartbeat\n",
      "22/04/30 07:25:20 INFO org.apache.spark.SparkEnv: Registering OutputCommitCoordinator\n",
      "22/04/30 07:25:22 WARN org.apache.spark.deploy.yarn.Client: Same path resource file:///root/.ivy2/jars/com.databricks_spark-xml_2.12-0.14.0.jar added multiple times to distributed cache.\n",
      "22/04/30 07:25:22 WARN org.apache.spark.deploy.yarn.Client: Same path resource file:///root/.ivy2/jars/commons-io_commons-io-2.8.0.jar added multiple times to distributed cache.\n",
      "22/04/30 07:25:22 WARN org.apache.spark.deploy.yarn.Client: Same path resource file:///root/.ivy2/jars/org.glassfish.jaxb_txw2-2.3.4.jar added multiple times to distributed cache.\n",
      "22/04/30 07:25:22 WARN org.apache.spark.deploy.yarn.Client: Same path resource file:///root/.ivy2/jars/org.apache.ws.xmlschema_xmlschema-core-2.2.5.jar added multiple times to distributed cache.\n"
     ]
    }
   ],
   "source": [
    "import os\n",
    "os.environ['PYSPARK_SUBMIT_ARGS'] = '--packages com.databricks:spark-xml_2.12:0.14.0 pyspark-shell'\n",
    "\n",
    "\n",
    "from pyspark.sql import SparkSession\n",
    "spark = SparkSession.builder.getOrCreate()"
   ]
  },
  {
   "cell_type": "code",
   "execution_count": 2,
   "id": "c003b4e7",
   "metadata": {},
   "outputs": [],
   "source": [
    "from pyspark.sql.functions import udf,collect_list,col,lit\n",
    "from pyspark.sql.types import StructType, StructField, FloatType, StringType"
   ]
  },
  {
   "cell_type": "code",
   "execution_count": 3,
   "id": "e19c0e67",
   "metadata": {},
   "outputs": [
    {
     "name": "stdout",
     "output_type": "stream",
     "text": [
      "WARNING: Use of this script to execute dfs is deprecated.\n",
      "WARNING: Attempting to execute replacement \"hdfs dfs\" instead.\n",
      "\n",
      "WARNING: Use of this script to execute dfs is deprecated.\n",
      "WARNING: Attempting to execute replacement \"hdfs dfs\" instead.\n",
      "\n",
      "Found 7 items\n",
      "-rw-r--r--   2 ecbm4040 hadoop   702821930 2022-04-26 21:22 /enwiki_small.xml\n",
      "-rw-r--r--   2 ecbm4040 hadoop  1785209833 2022-04-26 21:23 /enwiki_test.xml\n",
      "-rw-r--r--   2 ecbm4040 hadoop 30565654976 2022-04-26 21:36 /enwiki_whole.xml\n",
      "drwxr-xr-x   - root     hadoop           0 2022-04-30 05:23 /p2t1_receiver_whole\n",
      "drwxrwxrwt   - hdfs     hadoop           0 2022-04-29 07:25 /tmp\n",
      "drwxrwxrwt   - hdfs     hadoop           0 2022-04-26 21:39 /user\n",
      "drwx-wx-wx   - hive     hadoop           0 2022-04-26 21:18 /var\n"
     ]
    }
   ],
   "source": [
    "!hadoop dfs -mkdir -p hdfs://cluster-cc4766-3nodes-m/p2t1_receiver_whole\n",
    "!hadoop dfs -ls /"
   ]
  },
  {
   "cell_type": "code",
   "execution_count": 4,
   "id": "9b635982",
   "metadata": {},
   "outputs": [],
   "source": [
    "userSchema = StructType().add(\"lower_title\", \"string\").add(\"rank\", \"double\")"
   ]
  },
  {
   "cell_type": "code",
   "execution_count": 5,
   "id": "a1d82dbc",
   "metadata": {},
   "outputs": [],
   "source": [
    "df = spark \\\n",
    "    .readStream \\\n",
    "    .option(\"sep\", \"\\t\") \\\n",
    "    .schema(userSchema) \\\n",
    "    .csv(\"hdfs://cluster-cc4766-3nodes-m/p2t1_receiver_whole/\") "
   ]
  },
  {
   "cell_type": "code",
   "execution_count": 6,
   "id": "401936cf",
   "metadata": {},
   "outputs": [],
   "source": [
    "df = df.select(\"lower_title\", \"rank\").where(\"rank>0.5\")"
   ]
  },
  {
   "cell_type": "code",
   "execution_count": 7,
   "id": "b028cc43",
   "metadata": {},
   "outputs": [
    {
     "name": "stdout",
     "output_type": "stream",
     "text": [
      "WARNING: Use of this script to execute dfs is deprecated.\n",
      "WARNING: Attempting to execute replacement \"hdfs dfs\" instead.\n",
      "\n",
      "WARNING: Use of this script to execute dfs is deprecated.\n",
      "WARNING: Attempting to execute replacement \"hdfs dfs\" instead.\n",
      "\n",
      "Found 8 items\n",
      "-rw-r--r--   2 ecbm4040 hadoop   702821930 2022-04-26 21:22 /enwiki_small.xml\n",
      "-rw-r--r--   2 ecbm4040 hadoop  1785209833 2022-04-26 21:23 /enwiki_test.xml\n",
      "-rw-r--r--   2 ecbm4040 hadoop 30565654976 2022-04-26 21:36 /enwiki_whole.xml\n",
      "drwxr-xr-x   - root     hadoop           0 2022-04-30 05:23 /p2t1_output_whole\n",
      "drwxr-xr-x   - root     hadoop           0 2022-04-30 05:23 /p2t1_receiver_whole\n",
      "drwxrwxrwt   - hdfs     hadoop           0 2022-04-29 07:25 /tmp\n",
      "drwxrwxrwt   - hdfs     hadoop           0 2022-04-26 21:39 /user\n",
      "drwx-wx-wx   - hive     hadoop           0 2022-04-26 21:18 /var\n"
     ]
    }
   ],
   "source": [
    "!hadoop dfs -mkdir -p hdfs://cluster-cc4766-3nodes-m/p2t1_output_whole\n",
    "!hadoop dfs -ls /"
   ]
  },
  {
   "cell_type": "code",
   "execution_count": 8,
   "id": "f3c7f372",
   "metadata": {},
   "outputs": [
    {
     "name": "stderr",
     "output_type": "stream",
     "text": [
      "22/04/30 05:23:27 WARN org.apache.spark.sql.streaming.StreamingQueryManager: spark.sql.adaptive.enabled is not supported in streaming DataFrames/Datasets and will be disabled.\n"
     ]
    }
   ],
   "source": [
    "query = df.writeStream \\\n",
    "    .format(\"csv\") \\\n",
    "    .option(\"delimiter\", \"\\t\") \\\n",
    "    .option(\"checkpointLocation\", \"cluster-cc4766-3nodes-m/p2t1_output_whole/\") \\\n",
    "    .option(\"path\", \"cluster-cc4766-3nodes-m/p2t1_output_whole/\") \\\n",
    "    .start()"
   ]
  },
  {
   "cell_type": "code",
   "execution_count": 8,
   "id": "6492c019",
   "metadata": {},
   "outputs": [],
   "source": [
    "def pageRank(inputPath, outputPath):\n",
    "\n",
    "\n",
    "    tmp = spark.read.format('csv').options(delimiter='\\t').load(inputPath)\n",
    "\n",
    "    from pyspark.sql.functions import udf,collect_list,col,lit\n",
    "\n",
    "    tmp = tmp.toDF('lower_title', 'link')\n",
    "    tmp = tmp.dropna().sort('lower_title', 'link')\n",
    "\n",
    "    def compute_contribs(urls, rank):\n",
    "\n",
    "        num_urls = len(urls)\n",
    "        for url in urls:\n",
    "            yield (url, rank / num_urls)\n",
    "\n",
    "    links = tmp.groupBy('lower_title').agg(collect_list(\"link\")).toDF('lower_title',\"links\").sort('lower_title')\n",
    "    ranks = links.select(col(\"lower_title\")).withColumn(\"rank\",lit(1))\n",
    "\n",
    "    from operator import add\n",
    "\n",
    "    iter_num = 10\n",
    "    for i in range(iter_num):\n",
    "        contribs=links.join(ranks,on=\"lower_title\").rdd.flatMap(lambda url_urls_rank: compute_contribs(url_urls_rank[1], url_urls_rank[2]))\n",
    "        ranks = contribs.reduceByKey(add).mapValues(lambda rank : rank * 0.85 + 0.15)\n",
    "        ranks = spark.createDataFrame(data = ranks, schema = [\"lower_title\", \"rank\"])\n",
    "        print(\"The {}-th iteration completed.\".format(i+1))\n",
    "\n",
    "    df_output = ranks.sort(\"lower_title\", \"rank\")\n",
    "\n",
    "    df_output.coalesce(1).write.option(\"delimiter\", \"\\t\").csv(outputPath, mode='overwrite')\n",
    "                                                                \n",
    "    print(\"Output finished.\")\n"
   ]
  },
  {
   "cell_type": "code",
   "execution_count": 9,
   "id": "6a325e79",
   "metadata": {},
   "outputs": [
    {
     "name": "stderr",
     "output_type": "stream",
     "text": [
      "                                                                                \r"
     ]
    },
    {
     "name": "stdout",
     "output_type": "stream",
     "text": [
      "The 1-th iteration completed.\n"
     ]
    },
    {
     "name": "stderr",
     "output_type": "stream",
     "text": [
      "                                                                                \r"
     ]
    },
    {
     "name": "stdout",
     "output_type": "stream",
     "text": [
      "The 2-th iteration completed.\n"
     ]
    },
    {
     "name": "stderr",
     "output_type": "stream",
     "text": [
      "                                                                                \r"
     ]
    },
    {
     "name": "stdout",
     "output_type": "stream",
     "text": [
      "The 3-th iteration completed.\n"
     ]
    },
    {
     "name": "stderr",
     "output_type": "stream",
     "text": [
      "                                                                                \r"
     ]
    },
    {
     "name": "stdout",
     "output_type": "stream",
     "text": [
      "The 4-th iteration completed.\n"
     ]
    },
    {
     "name": "stderr",
     "output_type": "stream",
     "text": [
      "                                                                                \r"
     ]
    },
    {
     "name": "stdout",
     "output_type": "stream",
     "text": [
      "The 5-th iteration completed.\n"
     ]
    },
    {
     "name": "stderr",
     "output_type": "stream",
     "text": [
      "                                                                                \r"
     ]
    },
    {
     "name": "stdout",
     "output_type": "stream",
     "text": [
      "The 6-th iteration completed.\n"
     ]
    },
    {
     "name": "stderr",
     "output_type": "stream",
     "text": [
      "                                                                                \r"
     ]
    },
    {
     "name": "stdout",
     "output_type": "stream",
     "text": [
      "The 7-th iteration completed.\n"
     ]
    },
    {
     "name": "stderr",
     "output_type": "stream",
     "text": [
      "                                                                                \r"
     ]
    },
    {
     "name": "stdout",
     "output_type": "stream",
     "text": [
      "The 8-th iteration completed.\n"
     ]
    },
    {
     "name": "stderr",
     "output_type": "stream",
     "text": [
      "                                                                                \r"
     ]
    },
    {
     "name": "stdout",
     "output_type": "stream",
     "text": [
      "The 9-th iteration completed.\n"
     ]
    },
    {
     "name": "stderr",
     "output_type": "stream",
     "text": [
      "                                                                                \r"
     ]
    },
    {
     "name": "stdout",
     "output_type": "stream",
     "text": [
      "The 10-th iteration completed.\n"
     ]
    },
    {
     "name": "stderr",
     "output_type": "stream",
     "text": [
      "[Stage 684:>                                                        (0 + 1) / 1]\r"
     ]
    },
    {
     "name": "stdout",
     "output_type": "stream",
     "text": [
      "Output finished.\n"
     ]
    },
    {
     "name": "stderr",
     "output_type": "stream",
     "text": [
      "\r",
      "                                                                                \r"
     ]
    }
   ],
   "source": [
    "pageRank(\"gs://dataproc-staging-us-central1-543716498799-fp7nsgsr/task2whole\", \"hdfs://cluster-cc4766-3nodes-m/p2t1_receiver_whole/\")"
   ]
  },
  {
   "cell_type": "code",
   "execution_count": 12,
   "id": "d6d34cd8",
   "metadata": {},
   "outputs": [],
   "source": [
    "query.stop()"
   ]
  },
  {
   "cell_type": "code",
   "execution_count": 19,
   "id": "2121f27f",
   "metadata": {},
   "outputs": [
    {
     "name": "stderr",
     "output_type": "stream",
     "text": [
      "[Stage 26:=============================>                            (2 + 2) / 4]\r"
     ]
    },
    {
     "name": "stdout",
     "output_type": "stream",
     "text": [
      "The number of articles whose rank is greater than 0.5 is 1163257\n"
     ]
    },
    {
     "name": "stderr",
     "output_type": "stream",
     "text": [
      "\r",
      "                                                                                \r"
     ]
    }
   ],
   "source": [
    "p2t1_df = spark.read.format('csv').schema(userSchema).options(delimiter='\\t').load(\"hdfs://cluster-cc4766-3nodes-m/p2t1_output_whole/\")\n",
    "print(\"The number of articles whose rank is greater than 0.5 is {}\".format(p2t1_df.count()))"
   ]
  },
  {
   "cell_type": "code",
   "execution_count": 21,
   "id": "086f64b4",
   "metadata": {},
   "outputs": [],
   "source": [
    "spark.stop()"
   ]
  },
  {
   "cell_type": "code",
   "execution_count": null,
   "id": "8f273758",
   "metadata": {},
   "outputs": [],
   "source": []
  }
 ],
 "metadata": {
  "kernelspec": {
   "display_name": "Python 3",
   "language": "python",
   "name": "python3"
  },
  "language_info": {
   "codemirror_mode": {
    "name": "ipython",
    "version": 3
   },
   "file_extension": ".py",
   "mimetype": "text/x-python",
   "name": "python",
   "nbconvert_exporter": "python",
   "pygments_lexer": "ipython3",
   "version": "3.8.13"
  }
 },
 "nbformat": 4,
 "nbformat_minor": 5
}
